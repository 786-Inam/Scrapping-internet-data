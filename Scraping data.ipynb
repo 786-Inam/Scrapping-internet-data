{
 "cells": [
  {
   "cell_type": "code",
   "execution_count": 45,
   "metadata": {},
   "outputs": [],
   "source": [
    "from bs4 import BeautifulSoup as soup\n",
    "from urllib.request import urlopen as uReq\n",
    "\n",
    "my_url=\"https://www.flipkart.com/search?q=samsung+mobiles&amp;sid=tyy%2C4io&amp;as=on&amp;as-show=on&amp;otracker=AS_QueryStore_HistoryAutoSuggest_0_2&amp;otracker1=AS_QueryStore_HistoryAutoSuggest_0_2&amp;as-pos=0&amp;as-type=HISTORY&amp;as-searchtext=sa\"\n",
    "\n",
    "uClient = uReq(my_url)\n",
    "page_html = uClient.read()\n",
    "uClient.close()\n",
    "page_soup = soup(page_html, \"html.parser\")"
   ]
  },
  {
   "cell_type": "code",
   "execution_count": 46,
   "metadata": {},
   "outputs": [
    {
     "name": "stdout",
     "output_type": "stream",
     "text": [
      "24\n"
     ]
    }
   ],
   "source": [
    "containers = page_soup.findAll(\"div\", { \"class\": \"_13oc-S\"})\n",
    "print(len(containers))"
   ]
  },
  {
   "cell_type": "code",
   "execution_count": 47,
   "metadata": {},
   "outputs": [
    {
     "name": "stdout",
     "output_type": "stream",
     "text": [
      "<div class=\"_13oc-S\">\n",
      " <div data-id=\"MOBFV5PWG5MGD4CF\" style=\"width:100%\">\n",
      "  <div class=\"_2kHMtA\">\n",
      "   <a class=\"_1fQZEK\" href=\"/samsung-galaxy-f41-fusion-blue-128-gb/p/itm4769d0667cdf9?pid=MOBFV5PWG5MGD4CF&amp;lid=LSTMOBFV5PWG5MGD4CFZ8YQJZ&amp;marketplace=FLIPKART&amp;q=samsung+mobiles&amp;store=tyy%2F4io&amp;srno=s_1_1&amp;otracker=search&amp;fm=organic&amp;iid=e910cb89-1943-4802-9190-7ed36e165770.MOBFV5PWG5MGD4CF.SEARCH&amp;ssid=ps8ny0r1rk0000001617784096000&amp;qH=0258c7d48242959a\" rel=\"noopener noreferrer\" target=\"_blank\">\n",
      "    <div class=\"MIXNux\">\n",
      "     <div class=\"_2QcLo-\">\n",
      "      <div>\n",
      "       <div class=\"CXW8mj\" style=\"height:200px;width:200px\">\n",
      "        <img alt=\"SAMSUNG Galaxy F41 (Fusion Blue, 128 GB)\" class=\"_396cs4\" src=\"//static-assets-web.flixcart.com/www/linchpin/fk-cp-zion/img/placeholder_fcebae.svg\"/>\n",
      "       </div>\n",
      "      </div>\n",
      "     </div>\n",
      "     <div class=\"_3wLduG\">\n",
      "      <div class=\"_3PzNI-\">\n",
      "       <span class=\"f3A4_V\">\n",
      "        <label class=\"_2iDkf8\">\n",
      "         <input class=\"_30VH1S\" readonly=\"\" type=\"checkbox\"/>\n",
      "         <div class=\"_24_Dny\">\n",
      "         </div>\n",
      "        </label>\n",
      "       </span>\n",
      "       <label class=\"_6Up2sF\">\n",
      "        <span>\n",
      "         Add to Compare\n",
      "        </span>\n",
      "       </label>\n",
      "      </div>\n",
      "     </div>\n",
      "     <div class=\"_2hVSre _3nq8ih\">\n",
      "      <div class=\"_36FSn5\">\n",
      "       <svg class=\"_1l0elc\" height=\"16\" viewbox=\"0 0 20 16\" width=\"16\" xmlns=\"http://www.w3.org/2000/svg\">\n",
      "        <path class=\"eX72wL\" d=\"M8.695 16.682C4.06 12.382 1 9.536 1 6.065 1 3.219 3.178 1 5.95 1c1.566 0 3.069.746 4.05 1.915C10.981 1.745 12.484 1 14.05 1 16.822 1 19 3.22 19 6.065c0 3.471-3.06 6.316-7.695 10.617L10 17.897l-1.305-1.215z\" fill=\"#2874F0\" fill-rule=\"evenodd\" opacity=\".9\" stroke=\"#FFF\">\n",
      "        </path>\n",
      "       </svg>\n",
      "      </div>\n",
      "     </div>\n",
      "    </div>\n",
      "    <div class=\"_3pLy-c row\">\n",
      "     <div class=\"col col-7-12\">\n",
      "      <div class=\"_4rR01T\">\n",
      "       SAMSUNG Galaxy F41 (Fusion Blue, 128 GB)\n",
      "      </div>\n",
      "      <div class=\"gUuXy-\">\n",
      "       <span class=\"_1lRcqv\" id=\"productRating_LSTMOBFV5PWG5MGD4CFZ8YQJZ_MOBFV5PWG5MGD4CF_\">\n",
      "        <div class=\"_3LWZlK\">\n",
      "         4.3\n",
      "         <img class=\"_1wB99o\" src=\"data:image/svg+xml;base64,PHN2ZyB4bWxucz0iaHR0cDovL3d3dy53My5vcmcvMjAwMC9zdmciIHdpZHRoPSIxMyIgaGVpZ2h0PSIxMiI+PHBhdGggZmlsbD0iI0ZGRiIgZD0iTTYuNSA5LjQzOWwtMy42NzQgMi4yMy45NC00LjI2LTMuMjEtMi44ODMgNC4yNTQtLjQwNEw2LjUuMTEybDEuNjkgNC4wMSA0LjI1NC40MDQtMy4yMSAyLjg4Mi45NCA0LjI2eiIvPjwvc3ZnPg==\"/>\n",
      "        </div>\n",
      "       </span>\n",
      "       <span class=\"_2_R_DZ\">\n",
      "        <span>\n",
      "         <span>\n",
      "          2,49,114 Ratings\n",
      "         </span>\n",
      "         <span class=\"_13vcmD\">\n",
      "          &amp;\n",
      "         </span>\n",
      "         <span>\n",
      "          29,611 Reviews\n",
      "         </span>\n",
      "        </span>\n",
      "       </span>\n",
      "      </div>\n",
      "      <div class=\"fMghEO\">\n",
      "       <ul class=\"_1xgFaf\">\n",
      "        <li class=\"rgWa7D\">\n",
      "         6 GB RAM | 128 GB ROM | Expandable Upto 512 GB\n",
      "        </li>\n",
      "        <li class=\"rgWa7D\">\n",
      "         16.26 cm (6.4 inch) Full HD+ Display\n",
      "        </li>\n",
      "        <li class=\"rgWa7D\">\n",
      "         64MP + 8MP + 5MP | 32MP Front Camera\n",
      "        </li>\n",
      "        <li class=\"rgWa7D\">\n",
      "         6000 mAh Lithium-ion Battery\n",
      "        </li>\n",
      "        <li class=\"rgWa7D\">\n",
      "         Exynos 9611 Processor\n",
      "        </li>\n",
      "        <li class=\"rgWa7D\">\n",
      "         Super AMOLED Display\n",
      "        </li>\n",
      "        <li class=\"rgWa7D\">\n",
      "         1 Year Warranty Provided by the Manufacturer from Date of Purchase\n",
      "        </li>\n",
      "       </ul>\n",
      "      </div>\n",
      "     </div>\n",
      "     <div class=\"col col-5-12 nlI3QM\">\n",
      "      <div class=\"_3tbKJL\">\n",
      "       <div class=\"_25b18c\">\n",
      "        <div class=\"_30jeq3 _1_WHN1\">\n",
      "         ₹16,499\n",
      "        </div>\n",
      "        <div class=\"_3I9_wc _27UcVY\">\n",
      "         ₹\n",
      "         <!-- -->\n",
      "         20,999\n",
      "        </div>\n",
      "        <div class=\"_3Ay6Sb\">\n",
      "         <span>\n",
      "          21% off\n",
      "         </span>\n",
      "        </div>\n",
      "       </div>\n",
      "      </div>\n",
      "      <div class=\"_13J9qT\">\n",
      "       <img height=\"21\" src=\"//static-assets-web.flixcart.com/www/linchpin/fk-cp-zion/img/fa_62673a.png\"/>\n",
      "      </div>\n",
      "      <div class=\"_2ZdXDB\">\n",
      "       <div class=\"_18hQoS\" style=\"color:#000000;font-size:12px;font-family:inherit;font-weight:normal\">\n",
      "        No Cost EMI\n",
      "       </div>\n",
      "      </div>\n",
      "      <div class=\"_2ZdXDB\">\n",
      "       <div class=\"_18hQoS\" style=\"color:#000000;font-size:14px;font-family:inherit;font-weight:normal\">\n",
      "        Upto\n",
      "       </div>\n",
      "       <div class=\"_18hQoS\" style=\"color:#000000;font-size:14px;font-family:inherit;font-weight:bold\">\n",
      "        ₹15,650\n",
      "       </div>\n",
      "       <div class=\"_18hQoS\" style=\"color:#000000;font-size:14px;font-family:inherit;font-weight:normal\">\n",
      "        Off on Exchange\n",
      "       </div>\n",
      "      </div>\n",
      "     </div>\n",
      "    </div>\n",
      "   </a>\n",
      "  </div>\n",
      " </div>\n",
      "</div>\n"
     ]
    }
   ],
   "source": [
    "print(soup.prettify(containers[0]))"
   ]
  },
  {
   "cell_type": "code",
   "execution_count": 48,
   "metadata": {},
   "outputs": [
    {
     "name": "stdout",
     "output_type": "stream",
     "text": [
      "SAMSUNG Galaxy F41 (Fusion Blue, 128 GB)\n"
     ]
    }
   ],
   "source": [
    "container = containers[0]\n",
    "print(container.div.img[\"alt\"])"
   ]
  },
  {
   "cell_type": "code",
   "execution_count": 49,
   "metadata": {},
   "outputs": [
    {
     "name": "stdout",
     "output_type": "stream",
     "text": [
      "₹16,499\n"
     ]
    }
   ],
   "source": [
    "price = container.find_all(\"div\", {\"class\":\"_30jeq3 _1_WHN1\"})\n",
    "print(price[0].text)"
   ]
  },
  {
   "cell_type": "code",
   "execution_count": 50,
   "metadata": {},
   "outputs": [
    {
     "name": "stdout",
     "output_type": "stream",
     "text": [
      "4.32,49,114 Ratings & 29,611 Reviews\n"
     ]
    }
   ],
   "source": [
    "rating = container.find_all(\"div\", {\"class\":\"gUuXy-\"})\n",
    "print(rating[0].text)"
   ]
  },
  {
   "cell_type": "code",
   "execution_count": 53,
   "metadata": {},
   "outputs": [
    {
     "data": {
      "text/plain": [
       "32"
      ]
     },
     "execution_count": 53,
     "metadata": {},
     "output_type": "execute_result"
    }
   ],
   "source": [
    "filename = \"Items.csv\"\n",
    "f = open(filename, \"w\")\n",
    "headers = \"Product_Name, Pricing, Ratings \\n\"\n",
    "f.write(headers)"
   ]
  },
  {
   "cell_type": "code",
   "execution_count": 68,
   "metadata": {},
   "outputs": [
    {
     "name": "stdout",
     "output_type": "stream",
     "text": [
      "Product_Name:SAMSUNG Galaxy F41 (Fusion Blue, 128 GB)\n",
      "Pricing:₹16,499\n",
      "Rating:4.32,49,114 Ratings & 29,611 Reviews\n",
      "Product_Name:SAMSUNG Galaxy F41 (Fusion Black, 128 GB)\n",
      "Pricing:₹16,499\n",
      "Rating:4.32,49,114 Ratings & 29,611 Reviews\n",
      "Product_Name:SAMSUNG Galaxy F41 (Fusion Blue, 64 GB)\n",
      "Pricing:₹14,999\n",
      "Rating:4.32,49,114 Ratings & 29,611 Reviews\n",
      "Product_Name:SAMSUNG Guru 1200\n",
      "Pricing:₹1,309\n",
      "Rating:4.31,53,101 Ratings & 13,790 Reviews\n",
      "Product_Name:SAMSUNG Galaxy F41 (Fusion Green, 128 GB)\n",
      "Pricing:₹16,499\n",
      "Rating:4.32,49,114 Ratings & 29,611 Reviews\n",
      "Product_Name:SAMSUNG Guru 1200\n",
      "Pricing:₹1,304\n",
      "Rating:4.31,53,101 Ratings & 13,790 Reviews\n",
      "Product_Name:SAMSUNG Galaxy A52 (Awesome Blue, 128 GB)\n",
      "Pricing:₹27,999\n",
      "Rating:4.469 Ratings & 5 Reviews\n",
      "Product_Name:SAMSUNG Guru FM Plus SM-B110E/D\n",
      "Pricing:₹1,449\n",
      "Rating:4.354,866 Ratings & 5,636 Reviews\n",
      "Product_Name:SAMSUNG Guru FM Plus SM-B110E/D\n",
      "Pricing:₹1,449\n",
      "Rating:4.354,866 Ratings & 5,636 Reviews\n",
      "Product_Name:SAMSUNG Guru FM Plus SM-B110E/D\n",
      "Pricing:₹1,449\n",
      "Rating:4.354,866 Ratings & 5,636 Reviews\n",
      "Product_Name:SAMSUNG Guru Music 2\n",
      "Pricing:₹1,898\n",
      "Rating:4.31,67,778 Ratings & 16,374 Reviews\n",
      "Product_Name:SAMSUNG Guru 1200\n",
      "Pricing:₹1,339\n",
      "Rating:4.31,53,101 Ratings & 13,790 Reviews\n",
      "Product_Name:SAMSUNG Galaxy M01 (Black, 32 GB)\n",
      "Pricing:₹7,793\n",
      "Rating:4.217,406 Ratings & 1,306 Reviews\n",
      "Product_Name:SAMSUNG Guru Music 2 SM-B310E\n",
      "Pricing:₹1,847\n",
      "Rating:4.25,669 Ratings & 438 Reviews\n",
      "Product_Name:SAMSUNG Galaxy F41 (Fusion Green, 64 GB)\n",
      "Pricing:₹14,999\n",
      "Rating:4.32,49,114 Ratings & 29,611 Reviews\n",
      "Product_Name:SAMSUNG Guru Music 2\n",
      "Pricing:₹1,899\n",
      "Rating:4.31,67,778 Ratings & 16,374 Reviews\n",
      "Product_Name:SAMSUNG Guru Music 2\n",
      "Pricing:₹1,880\n",
      "Rating:4.31,67,778 Ratings & 16,374 Reviews\n",
      "Product_Name:SAMSUNG Galaxy A12 (Black, 128 GB)\n",
      "Pricing:₹13,999\n",
      "Rating:4.2726 Ratings & 61 Reviews\n",
      "Product_Name:SAMSUNG M01 core (Blue, 32 GB)\n",
      "Pricing:₹6,068\n",
      "Rating:3.96,133 Ratings & 536 Reviews\n",
      "Product_Name:SAMSUNG Galaxy F41 (Fusion Black, 64 GB)\n",
      "Pricing:₹14,999\n",
      "Rating:4.32,49,114 Ratings & 29,611 Reviews\n",
      "Product_Name:SAMSUNG M02s (Blue, 64 GB)\n",
      "Pricing:₹10,479\n",
      "Rating:4.1314 Ratings & 21 Reviews\n",
      "Product_Name:SAMSUNG Guru GT\n",
      "Pricing:₹1,314\n",
      "Rating:4.13,190 Ratings & 271 Reviews\n",
      "Product_Name:SAMSUNG M01 core (Black, 32 GB)\n",
      "Pricing:₹6,099\n",
      "Rating:3.96,133 Ratings & 536 Reviews\n",
      "Product_Name:SAMSUNG Metro 313 Dual Sim\n",
      "Pricing:₹2,266\n",
      "Rating:4.320,296 Ratings & 2,190 Reviews\n",
      "SAMSUNG Metro 313 Dual Sim\n"
     ]
    }
   ],
   "source": [
    "for container in containers:\n",
    "    product_name = container.div.img[\"alt\"]\n",
    "    price_container = container.findAll(\"div\", {\"class\":\"_30jeq3 _1_WHN1\"})\n",
    "    price = price_container[0].text.strip()\n",
    "    rating_container = container.findAll(\"div\", {\"class\":\"gUuXy-\"})\n",
    "    rating = rating_container[0].text\n",
    "    print(\"Product_Name:\"+ product_name)\n",
    "    print(\"Pricing:\"+ price)\n",
    "    print(\"Rating:\"+ rating)"
   ]
  },
  {
   "cell_type": "code",
   "execution_count": 54,
   "metadata": {},
   "outputs": [],
   "source": [
    "import pandas as pd\n",
    "d = {'Products_name':product_name, 'Pricing':price, 'Ratings &review':rating}"
   ]
  },
  {
   "cell_type": "code",
   "execution_count": 67,
   "metadata": {},
   "outputs": [
    {
     "ename": "NameError",
     "evalue": "name 'r' is not defined",
     "output_type": "error",
     "traceback": [
      "\u001b[1;31m---------------------------------------------------------------------------\u001b[0m",
      "\u001b[1;31mNameError\u001b[0m                                 Traceback (most recent call last)",
      "\u001b[1;32m<ipython-input-67-378dbdc0a069>\u001b[0m in \u001b[0;36m<module>\u001b[1;34m\u001b[0m\n\u001b[0;32m      1\u001b[0m \u001b[0mdf\u001b[0m \u001b[1;33m=\u001b[0m \u001b[0mpd\u001b[0m\u001b[1;33m.\u001b[0m\u001b[0mDataFrame\u001b[0m\u001b[1;33m(\u001b[0m\u001b[0mdata\u001b[0m\u001b[1;33m=\u001b[0m\u001b[0md\u001b[0m\u001b[1;33m,\u001b[0m\u001b[0mindex\u001b[0m\u001b[1;33m=\u001b[0m\u001b[1;33m[\u001b[0m\u001b[1;36m0\u001b[0m\u001b[1;33m]\u001b[0m\u001b[1;33m)\u001b[0m\u001b[1;33m\u001b[0m\u001b[1;33m\u001b[0m\u001b[0m\n\u001b[1;32m----> 2\u001b[1;33m \u001b[0mdf\u001b[0m\u001b[1;33m.\u001b[0m\u001b[0mto_csv\u001b[0m\u001b[1;33m(\u001b[0m\u001b[0mr\u001b[0m\u001b[1;33m+\u001b[0m\u001b[1;34m\"E:\\Pythoncourse\\Prosuc.csv\"\u001b[0m\u001b[1;33m)\u001b[0m\u001b[1;33m\u001b[0m\u001b[1;33m\u001b[0m\u001b[0m\n\u001b[0m",
      "\u001b[1;31mNameError\u001b[0m: name 'r' is not defined"
     ]
    }
   ],
   "source": [
    "df = pd.DataFrame(data=d,index=[0])\n",
    "df.to_csv(r\"E:\\Pythoncourse\\Prosuc.csv\")"
   ]
  },
  {
   "cell_type": "code",
   "execution_count": null,
   "metadata": {},
   "outputs": [],
   "source": []
  }
 ],
 "metadata": {
  "kernelspec": {
   "display_name": "Python 3",
   "language": "python",
   "name": "python3"
  },
  "language_info": {
   "codemirror_mode": {
    "name": "ipython",
    "version": 3
   },
   "file_extension": ".py",
   "mimetype": "text/x-python",
   "name": "python",
   "nbconvert_exporter": "python",
   "pygments_lexer": "ipython3",
   "version": "3.8.5"
  }
 },
 "nbformat": 4,
 "nbformat_minor": 4
}
